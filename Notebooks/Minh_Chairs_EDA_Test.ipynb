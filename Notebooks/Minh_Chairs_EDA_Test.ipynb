{
 "cells": [
  {
   "cell_type": "code",
   "execution_count": 13,
   "id": "927db6b8-ed9a-40ba-a343-7b39fc4448bc",
   "metadata": {},
   "outputs": [],
   "source": [
    "from PIL import Image\n",
    "import pandas as pd\n",
    "import os\n",
    "import hashlib\n",
    "import matplotlib.pyplot as plt"
   ]
  },
  {
   "cell_type": "code",
   "execution_count": 2,
   "id": "a0d933b5-7278-48be-b346-23f30b0868e2",
   "metadata": {},
   "outputs": [],
   "source": [
    "dataset_folder = \"../Data/Raw/Furniture_Data/chairs\""
   ]
  },
  {
   "cell_type": "code",
   "execution_count": 3,
   "id": "5364d070-5408-42ef-8978-229fce9ffa2a",
   "metadata": {},
   "outputs": [],
   "source": [
    "desired_size = (256, 256)\n",
    "\n",
    "image_data = []\n",
    "\n",
    "image_hashes = set()\n",
    "\n",
    "main_folder_name = os.path.basename(dataset_folder)"
   ]
  },
  {
   "cell_type": "code",
   "execution_count": 5,
   "id": "56c62719-e0a5-4178-a7d3-e9096bf2d51f",
   "metadata": {},
   "outputs": [],
   "source": [
    "for root, dirs, files in os.walk(dataset_folder):\n",
    "    for filename in files:\n",
    "        file_path = os.path.join(root, filename)\n",
    "        try:\n",
    "            \n",
    "            img = Image.open(file_path)\n",
    "            resized_img = img.resize(desired_size)\n",
    "            image_hash = hashlib.md5(resized_img.tobytes()).hexdigest()\n",
    "            \n",
    "            if image_hash not in image_hashes:\n",
    "                \n",
    "                image_hashes.add(image_hash)\n",
    "                subfolder_name = os.path.basename(root)\n",
    "                image_data.append((main_folder_name, subfolder_name, resized_img))\n",
    "                \n",
    "        except Exception as e:\n",
    "            print(f\"Error loading image {file_path}: {e}\")"
   ]
  },
  {
   "cell_type": "code",
   "execution_count": 6,
   "id": "02b5b740-0988-4e3e-8958-bf5c7be79cac",
   "metadata": {},
   "outputs": [
    {
     "name": "stdout",
     "output_type": "stream",
     "text": [
      "21853\n",
      "21853\n"
     ]
    }
   ],
   "source": [
    "print(len(image_data))\n",
    "print(len(image_hashes))"
   ]
  },
  {
   "cell_type": "code",
   "execution_count": 11,
   "id": "7e85259e-ba74-4970-a6da-d8decb0bd37b",
   "metadata": {},
   "outputs": [],
   "source": [
    "df = pd.DataFrame(image_data, columns=['Cat', 'Style', 'Img'])"
   ]
  },
  {
   "cell_type": "code",
   "execution_count": 12,
   "id": "7f7c1bad-0996-46b7-873b-4f083f6cd10f",
   "metadata": {},
   "outputs": [
    {
     "data": {
      "text/html": [
       "<div>\n",
       "<style scoped>\n",
       "    .dataframe tbody tr th:only-of-type {\n",
       "        vertical-align: middle;\n",
       "    }\n",
       "\n",
       "    .dataframe tbody tr th {\n",
       "        vertical-align: top;\n",
       "    }\n",
       "\n",
       "    .dataframe thead th {\n",
       "        text-align: right;\n",
       "    }\n",
       "</style>\n",
       "<table border=\"1\" class=\"dataframe\">\n",
       "  <thead>\n",
       "    <tr style=\"text-align: right;\">\n",
       "      <th></th>\n",
       "      <th>Cat</th>\n",
       "      <th>Style</th>\n",
       "      <th>Img</th>\n",
       "    </tr>\n",
       "  </thead>\n",
       "  <tbody>\n",
       "    <tr>\n",
       "      <th>0</th>\n",
       "      <td>chairs</td>\n",
       "      <td>Asian</td>\n",
       "      <td>&lt;PIL.Image.Image image mode=RGB size=256x256 a...</td>\n",
       "    </tr>\n",
       "    <tr>\n",
       "      <th>1</th>\n",
       "      <td>chairs</td>\n",
       "      <td>Asian</td>\n",
       "      <td>&lt;PIL.Image.Image image mode=RGB size=256x256 a...</td>\n",
       "    </tr>\n",
       "    <tr>\n",
       "      <th>2</th>\n",
       "      <td>chairs</td>\n",
       "      <td>Asian</td>\n",
       "      <td>&lt;PIL.Image.Image image mode=RGB size=256x256 a...</td>\n",
       "    </tr>\n",
       "    <tr>\n",
       "      <th>3</th>\n",
       "      <td>chairs</td>\n",
       "      <td>Asian</td>\n",
       "      <td>&lt;PIL.Image.Image image mode=RGB size=256x256 a...</td>\n",
       "    </tr>\n",
       "    <tr>\n",
       "      <th>4</th>\n",
       "      <td>chairs</td>\n",
       "      <td>Asian</td>\n",
       "      <td>&lt;PIL.Image.Image image mode=RGB size=256x256 a...</td>\n",
       "    </tr>\n",
       "    <tr>\n",
       "      <th>...</th>\n",
       "      <td>...</td>\n",
       "      <td>...</td>\n",
       "      <td>...</td>\n",
       "    </tr>\n",
       "    <tr>\n",
       "      <th>21848</th>\n",
       "      <td>chairs</td>\n",
       "      <td>Victorian</td>\n",
       "      <td>&lt;PIL.Image.Image image mode=RGB size=256x256 a...</td>\n",
       "    </tr>\n",
       "    <tr>\n",
       "      <th>21849</th>\n",
       "      <td>chairs</td>\n",
       "      <td>Victorian</td>\n",
       "      <td>&lt;PIL.Image.Image image mode=RGB size=256x256 a...</td>\n",
       "    </tr>\n",
       "    <tr>\n",
       "      <th>21850</th>\n",
       "      <td>chairs</td>\n",
       "      <td>Victorian</td>\n",
       "      <td>&lt;PIL.Image.Image image mode=RGB size=256x256 a...</td>\n",
       "    </tr>\n",
       "    <tr>\n",
       "      <th>21851</th>\n",
       "      <td>chairs</td>\n",
       "      <td>Victorian</td>\n",
       "      <td>&lt;PIL.Image.Image image mode=RGB size=256x256 a...</td>\n",
       "    </tr>\n",
       "    <tr>\n",
       "      <th>21852</th>\n",
       "      <td>chairs</td>\n",
       "      <td>Victorian</td>\n",
       "      <td>&lt;PIL.Image.Image image mode=RGB size=256x256 a...</td>\n",
       "    </tr>\n",
       "  </tbody>\n",
       "</table>\n",
       "<p>21853 rows × 3 columns</p>\n",
       "</div>"
      ],
      "text/plain": [
       "          Cat      Style                                                Img\n",
       "0      chairs      Asian  <PIL.Image.Image image mode=RGB size=256x256 a...\n",
       "1      chairs      Asian  <PIL.Image.Image image mode=RGB size=256x256 a...\n",
       "2      chairs      Asian  <PIL.Image.Image image mode=RGB size=256x256 a...\n",
       "3      chairs      Asian  <PIL.Image.Image image mode=RGB size=256x256 a...\n",
       "4      chairs      Asian  <PIL.Image.Image image mode=RGB size=256x256 a...\n",
       "...       ...        ...                                                ...\n",
       "21848  chairs  Victorian  <PIL.Image.Image image mode=RGB size=256x256 a...\n",
       "21849  chairs  Victorian  <PIL.Image.Image image mode=RGB size=256x256 a...\n",
       "21850  chairs  Victorian  <PIL.Image.Image image mode=RGB size=256x256 a...\n",
       "21851  chairs  Victorian  <PIL.Image.Image image mode=RGB size=256x256 a...\n",
       "21852  chairs  Victorian  <PIL.Image.Image image mode=RGB size=256x256 a...\n",
       "\n",
       "[21853 rows x 3 columns]"
      ]
     },
     "execution_count": 12,
     "metadata": {},
     "output_type": "execute_result"
    }
   ],
   "source": [
    "df"
   ]
  }
 ],
 "metadata": {
  "kernelspec": {
   "display_name": "Python 3 (ipykernel)",
   "language": "python",
   "name": "python3"
  },
  "language_info": {
   "codemirror_mode": {
    "name": "ipython",
    "version": 3
   },
   "file_extension": ".py",
   "mimetype": "text/x-python",
   "name": "python",
   "nbconvert_exporter": "python",
   "pygments_lexer": "ipython3",
   "version": "3.11.7"
  }
 },
 "nbformat": 4,
 "nbformat_minor": 5
}
