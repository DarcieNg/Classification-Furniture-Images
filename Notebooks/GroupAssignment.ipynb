{
 "cells": [
  {
   "cell_type": "markdown",
   "id": "c7750b6d",
   "metadata": {},
   "source": [
    "Assume you are a team of machine learning engineers working for an ecommerce furniture shop, where users can browse and navigate interior furniture items. You are required to build a Furniture Recommender that allows users who have recently moved to explore furniture on your ecommerce system at ease. Your systems should have a functionality to help users navigate to the category of the furniture item that users want to buy. In most of the current online shops, users should type the name of the items and browse from the list of the results. However, to enhance the quality of the searching results, our system provides an image based searching function, where the users can upload the images of the furniture item that they are looking for. The system will accomplish an image search and return the list of similar-styled furniture in favor from our dataset.\n",
    "In the Furniture dataset, there are 06 categories: beds - 6578 images; chairs - 22053 images; dressers - 7871 images; lamps - 32402 images; sofas - 4080 images; tables - 17100 images, with total of 90084 images. For every category, there are 17 interior styles:\n",
    "- (a) Asian; (b) Beach; (c) Contemp; (d) Craftsman; (e) Eclectic; (f) Farmhouse; \n",
    "- (g) Industrial; (h) Media; (i) Midcentury; (j) Modern; (k) Rustic; (l) Scandinavian; \n",
    "- (m) Southwestern; (n) Traditional; (o) Transitional; (p) Tropical and (q) Victorian\n",
    "\n",
    "You have three tasks in this project:\n",
    "- **Task 1:** Classify images according to furniture category (beds; chairs; dressers; lamps; sofas; tables)\n",
    "- **Task 2:** Recommend 10 furniture items in our dataset which is similar to the input furniture item image from users. You are required to define a metric of “similarity” between two furniture items.\n",
    "- **Task 3:** (only for those aim HD) The extension of the model in Task 2, the recommended furniture items must be in the same interior styles with the style of the input images. In order to fulfill this task, you are required to build a model to recognize the style of a furniture item."
   ]
  },
  {
   "cell_type": "code",
   "execution_count": 1,
   "id": "65c03039",
   "metadata": {},
   "outputs": [],
   "source": [
    "import seaborn as sns\n",
    "import pandas as pd\n",
    "import numpy as np\n",
    "import matplotlib.pyplot as plt"
   ]
  },
  {
   "cell_type": "markdown",
   "id": "fb222c3c",
   "metadata": {},
   "source": [
    "## Read dataset from .csv file"
   ]
  },
  {
   "cell_type": "code",
   "execution_count": null,
   "id": "3616a472",
   "metadata": {},
   "outputs": [],
   "source": []
  },
  {
   "cell_type": "markdown",
   "id": "79005bd4",
   "metadata": {},
   "source": [
    "## EDA"
   ]
  },
  {
   "cell_type": "code",
   "execution_count": null,
   "id": "ad209586",
   "metadata": {},
   "outputs": [],
   "source": [
    "# fig, ax = plt.subplots(1, 2, figsize=(10, 5))\n",
    "\n",
    "# ax1 = sns.countplot(data=df, x='Style', ax=ax[0])\n",
    "# ax1.set_xticklabels(\n",
    "#     ax1.get_xticklabels(),\n",
    "#     rotation=45,\n",
    "#     ha=\"right\"\n",
    "# )\n",
    "# for c in ax1.containers:\n",
    "#     ax1.bar_label(c)\n",
    "    \n",
    "# ax2 = plt.subplot(1, 2, 2)\n",
    "# styles_count = df['Style'].value_counts()\n",
    "# ax2.pie(styles_count, labels=styles_count.index, autopct='%.2f')\n",
    "\n",
    "# plt.show()"
   ]
  }
 ],
 "metadata": {
  "kernelspec": {
   "display_name": "Python 3 (ipykernel)",
   "language": "python",
   "name": "python3"
  },
  "language_info": {
   "codemirror_mode": {
    "name": "ipython",
    "version": 3
   },
   "file_extension": ".py",
   "mimetype": "text/x-python",
   "name": "python",
   "nbconvert_exporter": "python",
   "pygments_lexer": "ipython3",
   "version": "3.11.5"
  }
 },
 "nbformat": 4,
 "nbformat_minor": 5
}
