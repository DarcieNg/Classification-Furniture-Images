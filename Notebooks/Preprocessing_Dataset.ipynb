{
 "cells": [
  {
   "cell_type": "code",
   "execution_count": 1,
   "id": "86885d98",
   "metadata": {},
   "outputs": [],
   "source": [
    "from PIL import Image\n",
    "import pandas as pd\n",
    "import os\n",
    "import hashlib\n",
    "import shutil"
   ]
  },
  {
   "cell_type": "code",
   "execution_count": 2,
   "id": "641dac80",
   "metadata": {},
   "outputs": [],
   "source": [
    "dataset_folder = \"../Data/Raw/Furniture_Data\""
   ]
  },
  {
   "cell_type": "code",
   "execution_count": 3,
   "id": "bf3375b7",
   "metadata": {},
   "outputs": [],
   "source": [
    "desired_size = (256, 256)\n",
    "\n",
    "image_data = []\n",
    "image_hashes = set()\n",
    "image_color_hist = []\n",
    "\n",
    "main_folder_name = os.path.basename(dataset_folder)"
   ]
  },
  {
   "cell_type": "code",
   "execution_count": 4,
   "id": "5aa070e1",
   "metadata": {},
   "outputs": [],
   "source": [
    "for root, dirs, files in os.walk(dataset_folder):\n",
    "    for parent_folder in dirs:\n",
    "        parent_folder_path = os.path.join(root, parent_folder)\n",
    "        \n",
    "        for filename in os.listdir(parent_folder_path):\n",
    "            if filename == \".DS_Store\":\n",
    "                continue\n",
    "                \n",
    "            file_path = os.path.join(parent_folder_path, filename)\n",
    "            \n",
    "            if os.path.isdir(file_path):\n",
    "                continue\n",
    "                \n",
    "            try:\n",
    "\n",
    "                img = Image.open(file_path)\n",
    "                resized_img = img.resize(desired_size)\n",
    "                image_hash = hashlib.md5(resized_img.tobytes()).hexdigest()\n",
    "                parent_folder_dir = os.path.dirname(parent_folder_path)\n",
    "                parent_folder_name = os.path.basename(parent_folder_dir)\n",
    "                \n",
    "                # Ignore duplicates\n",
    "                if image_hash not in image_hashes:\n",
    "                    # Add new img to hash\n",
    "                    image_hashes.add(image_hash)\n",
    "                    subfolder_name = os.path.basename(parent_folder_path)\n",
    "                    image_data.append((parent_folder_name, subfolder_name, resized_img))\n",
    "\n",
    "            except Exception as e:\n",
    "                print(f\"Error loading image {file_path}: {e}\")"
   ]
  },
  {
   "cell_type": "code",
   "execution_count": 5,
   "id": "0583c59a",
   "metadata": {},
   "outputs": [
    {
     "name": "stdout",
     "output_type": "stream",
     "text": [
      "85165\n",
      "85165\n"
     ]
    }
   ],
   "source": [
    "print(len(image_data))\n",
    "print(len(image_hashes))"
   ]
  },
  {
   "cell_type": "code",
   "execution_count": 6,
   "id": "cdc63f53",
   "metadata": {},
   "outputs": [
    {
     "data": {
      "text/html": [
       "<div>\n",
       "<style scoped>\n",
       "    .dataframe tbody tr th:only-of-type {\n",
       "        vertical-align: middle;\n",
       "    }\n",
       "\n",
       "    .dataframe tbody tr th {\n",
       "        vertical-align: top;\n",
       "    }\n",
       "\n",
       "    .dataframe thead th {\n",
       "        text-align: right;\n",
       "    }\n",
       "</style>\n",
       "<table border=\"1\" class=\"dataframe\">\n",
       "  <thead>\n",
       "    <tr style=\"text-align: right;\">\n",
       "      <th></th>\n",
       "      <th>Cat</th>\n",
       "      <th>Style</th>\n",
       "      <th>Img</th>\n",
       "    </tr>\n",
       "  </thead>\n",
       "  <tbody>\n",
       "    <tr>\n",
       "      <th>0</th>\n",
       "      <td>tables</td>\n",
       "      <td>Eclectic</td>\n",
       "      <td>&lt;PIL.Image.Image image mode=RGB size=256x256 a...</td>\n",
       "    </tr>\n",
       "    <tr>\n",
       "      <th>1</th>\n",
       "      <td>tables</td>\n",
       "      <td>Eclectic</td>\n",
       "      <td>&lt;PIL.Image.Image image mode=RGB size=256x256 a...</td>\n",
       "    </tr>\n",
       "    <tr>\n",
       "      <th>2</th>\n",
       "      <td>tables</td>\n",
       "      <td>Eclectic</td>\n",
       "      <td>&lt;PIL.Image.Image image mode=RGB size=256x256 a...</td>\n",
       "    </tr>\n",
       "    <tr>\n",
       "      <th>3</th>\n",
       "      <td>tables</td>\n",
       "      <td>Eclectic</td>\n",
       "      <td>&lt;PIL.Image.Image image mode=RGB size=256x256 a...</td>\n",
       "    </tr>\n",
       "    <tr>\n",
       "      <th>4</th>\n",
       "      <td>tables</td>\n",
       "      <td>Eclectic</td>\n",
       "      <td>&lt;PIL.Image.Image image mode=RGB size=256x256 a...</td>\n",
       "    </tr>\n",
       "    <tr>\n",
       "      <th>...</th>\n",
       "      <td>...</td>\n",
       "      <td>...</td>\n",
       "      <td>...</td>\n",
       "    </tr>\n",
       "    <tr>\n",
       "      <th>85160</th>\n",
       "      <td>beds</td>\n",
       "      <td>Asian</td>\n",
       "      <td>&lt;PIL.Image.Image image mode=RGB size=256x256 a...</td>\n",
       "    </tr>\n",
       "    <tr>\n",
       "      <th>85161</th>\n",
       "      <td>beds</td>\n",
       "      <td>Asian</td>\n",
       "      <td>&lt;PIL.Image.Image image mode=RGB size=256x256 a...</td>\n",
       "    </tr>\n",
       "    <tr>\n",
       "      <th>85162</th>\n",
       "      <td>beds</td>\n",
       "      <td>Asian</td>\n",
       "      <td>&lt;PIL.Image.Image image mode=RGB size=256x256 a...</td>\n",
       "    </tr>\n",
       "    <tr>\n",
       "      <th>85163</th>\n",
       "      <td>beds</td>\n",
       "      <td>Asian</td>\n",
       "      <td>&lt;PIL.Image.Image image mode=RGB size=256x256 a...</td>\n",
       "    </tr>\n",
       "    <tr>\n",
       "      <th>85164</th>\n",
       "      <td>beds</td>\n",
       "      <td>Asian</td>\n",
       "      <td>&lt;PIL.Image.Image image mode=RGB size=256x256 a...</td>\n",
       "    </tr>\n",
       "  </tbody>\n",
       "</table>\n",
       "<p>85165 rows × 3 columns</p>\n",
       "</div>"
      ],
      "text/plain": [
       "          Cat     Style                                                Img\n",
       "0      tables  Eclectic  <PIL.Image.Image image mode=RGB size=256x256 a...\n",
       "1      tables  Eclectic  <PIL.Image.Image image mode=RGB size=256x256 a...\n",
       "2      tables  Eclectic  <PIL.Image.Image image mode=RGB size=256x256 a...\n",
       "3      tables  Eclectic  <PIL.Image.Image image mode=RGB size=256x256 a...\n",
       "4      tables  Eclectic  <PIL.Image.Image image mode=RGB size=256x256 a...\n",
       "...       ...       ...                                                ...\n",
       "85160    beds     Asian  <PIL.Image.Image image mode=RGB size=256x256 a...\n",
       "85161    beds     Asian  <PIL.Image.Image image mode=RGB size=256x256 a...\n",
       "85162    beds     Asian  <PIL.Image.Image image mode=RGB size=256x256 a...\n",
       "85163    beds     Asian  <PIL.Image.Image image mode=RGB size=256x256 a...\n",
       "85164    beds     Asian  <PIL.Image.Image image mode=RGB size=256x256 a...\n",
       "\n",
       "[85165 rows x 3 columns]"
      ]
     },
     "execution_count": 6,
     "metadata": {},
     "output_type": "execute_result"
    }
   ],
   "source": [
    "df = pd.DataFrame(image_data, columns=['Cat', 'Style', 'Img'])\n",
    "df"
   ]
  },
  {
   "cell_type": "code",
   "execution_count": 7,
   "id": "33489547",
   "metadata": {},
   "outputs": [],
   "source": [
    "df.to_csv('../Data/furnitureData.csv', index=False)"
   ]
  }
 ],
 "metadata": {
  "kernelspec": {
   "display_name": "Python 3 (ipykernel)",
   "language": "python",
   "name": "python3"
  },
  "language_info": {
   "codemirror_mode": {
    "name": "ipython",
    "version": 3
   },
   "file_extension": ".py",
   "mimetype": "text/x-python",
   "name": "python",
   "nbconvert_exporter": "python",
   "pygments_lexer": "ipython3",
   "version": "3.11.5"
  }
 },
 "nbformat": 4,
 "nbformat_minor": 5
}
